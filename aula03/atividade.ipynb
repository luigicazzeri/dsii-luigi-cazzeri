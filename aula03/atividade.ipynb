{
 "cells": [
  {
   "cell_type": "code",
   "execution_count": 5,
   "metadata": {},
   "outputs": [
    {
     "name": "stdout",
     "output_type": "stream",
     "text": [
      "A média é:  5.0\n"
     ]
    }
   ],
   "source": [
    "p1=float(input(\"informe a nota p1: \"))\n",
    "p2=float(input(\"informe a nota p2: \"))\n",
    "p3=float(input(\"informe a nota p3: \"))\n",
    "soma=p1+p2+p3\n",
    "media=soma/3\n",
    "print('A média é: ',media)"
   ]
  },
  {
   "cell_type": "code",
   "execution_count": 6,
   "metadata": {},
   "outputs": [
    {
     "name": "stdout",
     "output_type": "stream",
     "text": [
      "A média hipotenusa:  5.0\n"
     ]
    }
   ],
   "source": [
    "a=4\n",
    "b=3\n",
    "h=(a**2 + b**2)**0.5\n",
    "print('A média hipotenusa: ',h)\n"
   ]
  },
  {
   "cell_type": "code",
   "execution_count": 7,
   "metadata": {},
   "outputs": [
    {
     "name": "stdout",
     "output_type": "stream",
     "text": [
      "Seu salário atual é de 5000.0\n",
      "Seu aumento será de 750.0\n",
      "Seu novo salário é de 5750.0\n"
     ]
    }
   ],
   "source": [
    "salarioAtual = float(input('Qual o valor do seu salário atual? '))\n",
    "\n",
    "\n",
    "pAumento = int(input('Qual a porcentagem de aumento?'))/100 \n",
    "\n",
    "somaSalarial = salarioAtual * pAumento\n",
    "somaSalarial_arred = round(somaSalarial, 2)\n",
    "\n",
    "novoSalario = salarioAtual + somaSalarial\n",
    "novoSalario_arred = round(novoSalario, 2)\n",
    "\n",
    "print(\"Seu salário atual é de\", salarioAtual)\n",
    "print(\"Seu aumento será de\", somaSalarial_arred)\n",
    "print(\"Seu novo salário é de\", novoSalario_arred)"
   ]
  },
  {
   "cell_type": "code",
   "execution_count": 8,
   "metadata": {},
   "outputs": [
    {
     "name": "stdout",
     "output_type": "stream",
     "text": [
      "O valor do volume da lata de óleo é:  2010.56\n"
     ]
    }
   ],
   "source": [
    "PI = 3.1415\n",
    "raio = float(input(\"Digite o valor do raio da lata: \"))\n",
    "altura = float(input(\"Digite o valor da altura da lata: \"))\n",
    "\n",
    "volume = PI * raio**2 * altura\n",
    "volumeArredondado = round(volume, 2)\n",
    "\n",
    "print (\"O valor do volume da lata de óleo é: \", volumeArredondado)"
   ]
  }
 ],
 "metadata": {
  "kernelspec": {
   "display_name": "Python 3",
   "language": "python",
   "name": "python3"
  },
  "language_info": {
   "codemirror_mode": {
    "name": "ipython",
    "version": 3
   },
   "file_extension": ".py",
   "mimetype": "text/x-python",
   "name": "python",
   "nbconvert_exporter": "python",
   "pygments_lexer": "ipython3",
   "version": "3.10.6"
  },
  "orig_nbformat": 4
 },
 "nbformat": 4,
 "nbformat_minor": 2
}
