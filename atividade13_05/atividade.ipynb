{
 "cells": [
  {
   "cell_type": "code",
   "execution_count": null,
   "id": "7e8ae22e",
   "metadata": {},
   "outputs": [
    {
     "ename": "ModuleNotFoundError",
     "evalue": "No module named 'mysql'",
     "output_type": "error",
     "traceback": [
      "\u001b[1;31m---------------------------------------------------------------------------\u001b[0m",
      "\u001b[1;31mModuleNotFoundError\u001b[0m                       Traceback (most recent call last)",
      "Cell \u001b[1;32mIn[1], line 1\u001b[0m\n\u001b[1;32m----> 1\u001b[0m \u001b[38;5;28;01mimport\u001b[39;00m\u001b[38;5;250m \u001b[39m\u001b[38;5;21;01mmysql\u001b[39;00m\u001b[38;5;21;01m.\u001b[39;00m\u001b[38;5;21;01mconnector\u001b[39;00m\n\u001b[0;32m      3\u001b[0m \u001b[38;5;66;03m# Função para conectar ao banco de dados MySQL\u001b[39;00m\n\u001b[0;32m      4\u001b[0m \u001b[38;5;28;01mdef\u001b[39;00m\u001b[38;5;250m \u001b[39m\u001b[38;5;21mconectar\u001b[39m():\n",
      "\u001b[1;31mModuleNotFoundError\u001b[0m: No module named 'mysql'"
     ]
    }
   ],
   "source": [
    "import mysql.connector\n",
    "\n",
    "# Função para conectar ao banco de dados MySQL\n",
    "def conectar():\n",
    "    return mysql.connector.connect(\n",
    "        host=\"localhost\",        \n",
    "        user=\"root\",             \n",
    "        password=\"1234\",    \n",
    "        database=\"etecSQL\"       \n",
    "    )\n",
    "\n",
    "# Função para inserir dados na tabela 'pessoas'\n",
    "def cadastrar_pessoa(conexao):\n",
    "    cursor = conexao.cursor()\n",
    "\n",
    "    nome = input(\"Digite o nome: \")\n",
    "    sobrenome = input(\"Digite o sobrenome: \")\n",
    "    idade = int(input(\"Digite a idade: \"))\n",
    "    sexo = input(\"Digite o sexo (M/F/Outro): \")\n",
    "\n",
    "    # Comando SQL para inserir os dados\n",
    "    sql = \"INSERT INTO pessoas (nome, sobrenome, idade, sexo) VALUES (%s, %s, %s, %s)\"\n",
    "    valores = (nome, sobrenome, idade, sexo)\n",
    "\n",
    "    cursor.execute(sql, valores)\n",
    "    conexao.commit()  \n",
    "\n",
    "    print(\"Pessoa cadastrada com sucesso!\")\n",
    "\n",
    "# Função para imprimir os dados cadastrados\n",
    "def imprimir_dados(conexao):\n",
    "    cursor = conexao.cursor()\n",
    "    \n",
    "    cursor.execute(\"SELECT * FROM pessoas\")\n",
    "    pessoas = cursor.fetchall()\n",
    "\n",
    "    if pessoas:\n",
    "        print(\"\\nDados cadastrados:\")\n",
    "        for pessoa in pessoas:\n",
    "            print(f\"ID: {pessoa[0]}, Nome: {pessoa[1]}, Sobrenome: {pessoa[2]}, Idade: {pessoa[3]}, Sexo: {pessoa[4]}\")\n",
    "    else:\n",
    "        print(\"Nenhuma pessoa cadastrada.\")\n",
    "\n",
    "def main():\n",
    "    # Conectar ao banco de dados\n",
    "    conexao = conectar()\n",
    "\n",
    "    while True:\n",
    "        # Cadastrar uma nova pessoa\n",
    "        cadastrar_pessoa(conexao)\n",
    "        \n",
    "        # Perguntar se o usuário quer cadastrar outra pessoa\n",
    "        continuar = input(\"Deseja cadastrar outra pessoa? (s/n): \").strip().lower()\n",
    "        if continuar != 's':\n",
    "            break\n",
    "\n",
    "    # Imprimir os dados cadastrados\n",
    "    imprimir_dados(conexao)\n",
    "\n",
    "    # Fechar a conexão com o banco de dados\n",
    "    conexao.close()\n",
    "\n",
    "if __name__ == \"__main__\":\n",
    "    main()\n"
   ]
  }
 ],
 "metadata": {
  "kernelspec": {
   "display_name": ".venv",
   "language": "python",
   "name": "python3"
  },
  "language_info": {
   "codemirror_mode": {
    "name": "ipython",
    "version": 3
   },
   "file_extension": ".py",
   "mimetype": "text/x-python",
   "name": "python",
   "nbconvert_exporter": "python",
   "pygments_lexer": "ipython3",
   "version": "3.10.6"
  }
 },
 "nbformat": 4,
 "nbformat_minor": 5
}
