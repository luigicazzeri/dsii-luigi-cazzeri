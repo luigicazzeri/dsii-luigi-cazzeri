{
 "cells": [
  {
   "cell_type": "code",
   "execution_count": 30,
   "metadata": {},
   "outputs": [
    {
     "name": "stdout",
     "output_type": "stream",
     "text": [
      "         *\n",
      "        ***\n",
      "       *****\n",
      "      *******\n",
      "     *********\n",
      "    ***********\n",
      "   *************\n",
      "  ***************\n",
      " *****************\n",
      "*******************\n",
      "         |\n",
      "     \\=======/"
     ]
    }
   ],
   "source": [
    "def arvore_de_natal():\n",
    "    altura = 10  \n",
    "    for i in range(altura):\n",
    "        print(' ' * (altura - i - 1) + '*' * (2 * i + 1))  \n",
    "    print(' ' * (altura - 1) + '|')\n",
    "    print(' '*(altura - 5), end = '\\=======/')  \n",
    "\n",
    "arvore_de_natal()\n"
   ]
  },
  {
   "cell_type": "code",
   "execution_count": 29,
   "metadata": {},
   "outputs": [
    {
     "name": "stdout",
     "output_type": "stream",
     "text": [
      "Seu nome:  luigi cazzeri\n"
     ]
    }
   ],
   "source": [
    "a= input('Digite seu preimeiro nome: ')\n",
    "b= input('Digite seu sobrenome: ')\n",
    "print ('Seu nome: ', a, b)"
   ]
  },
  {
   "cell_type": "code",
   "execution_count": 31,
   "metadata": {},
   "outputs": [
    {
     "name": "stdout",
     "output_type": "stream",
     "text": [
      "100\n"
     ]
    }
   ],
   "source": [
    "a=int(input('Digite um valor: '))\n",
    "quadrado = a*a\n",
    "print(quadrado)"
   ]
  },
  {
   "cell_type": "code",
   "execution_count": 32,
   "metadata": {},
   "outputs": [
    {
     "name": "stdout",
     "output_type": "stream",
     "text": [
      "O sucessor será:  2\n",
      "O antecessor será:  0\n"
     ]
    }
   ],
   "source": [
    "a = int(input('Digite um valor: '))\n",
    "b = a + 1\n",
    "c = a - 1\n",
    "print('O sucessor será: ', b)\n",
    "print('O antecessor será: ', c)"
   ]
  },
  {
   "cell_type": "code",
   "execution_count": 33,
   "metadata": {},
   "outputs": [
    {
     "name": "stdout",
     "output_type": "stream",
     "text": [
      "Perimetro:  12\n",
      "Area:  8\n"
     ]
    }
   ],
   "source": [
    "a = int(input('Digite o valo da base: '))\n",
    "b = int(input('Digite o valor da altura: '))\n",
    "p = 2*a + 2*b\n",
    "q = a*b\n",
    "print('Perimetro: ', p)\n",
    "print('Area: ', q)"
   ]
  },
  {
   "cell_type": "code",
   "execution_count": 34,
   "metadata": {},
   "outputs": [
    {
     "name": "stdout",
     "output_type": "stream",
     "text": [
      "1.06\n"
     ]
    }
   ],
   "source": [
    "v = int(input('Digite um valor: '))\n",
    "t = int(input('Digite a taxa: '))\n",
    "h = int(input('Digite o tempo(dias): '))\n",
    "x = v + (v*(t/100)*h)\n",
    "print(x)"
   ]
  }
 ],
 "metadata": {
  "interpreter": {
   "hash": "9f99128525e34b43f3e7878806927c5c780b18daaab0ddce357984e3321df7a8"
  },
  "kernelspec": {
   "display_name": "Python 3.10.6 64-bit",
   "language": "python",
   "name": "python3"
  },
  "language_info": {
   "codemirror_mode": {
    "name": "ipython",
    "version": 3
   },
   "file_extension": ".py",
   "mimetype": "text/x-python",
   "name": "python",
   "nbconvert_exporter": "python",
   "pygments_lexer": "ipython3",
   "version": "3.10.6"
  },
  "orig_nbformat": 4
 },
 "nbformat": 4,
 "nbformat_minor": 2
}
