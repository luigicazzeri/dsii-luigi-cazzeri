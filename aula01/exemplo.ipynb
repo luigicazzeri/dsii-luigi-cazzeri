{
 "cells": [
  {
   "cell_type": "code",
   "execution_count": 1,
   "metadata": {},
   "outputs": [
    {
     "name": "stdout",
     "output_type": "stream",
     "text": [
      "Hello!!!\n"
     ]
    }
   ],
   "source": [
    "print('Hello!!!')"
   ]
  },
  {
   "cell_type": "code",
   "execution_count": 2,
   "metadata": {},
   "outputs": [
    {
     "name": "stdout",
     "output_type": "stream",
     "text": [
      "15\n"
     ]
    }
   ],
   "source": [
    "a=5\n",
    "b=10\n",
    "soma=a+b\n",
    "print(soma)"
   ]
  },
  {
   "cell_type": "code",
   "execution_count": 3,
   "metadata": {},
   "outputs": [
    {
     "name": "stdout",
     "output_type": "stream",
     "text": [
      "15\n"
     ]
    },
    {
     "data": {
      "text/plain": [
       "int"
      ]
     },
     "execution_count": 3,
     "metadata": {},
     "output_type": "execute_result"
    }
   ],
   "source": [
    "a=5\n",
    "b=10\n",
    "soma=a+b\n",
    "print(soma)\n",
    "type(soma)"
   ]
  },
  {
   "cell_type": "code",
   "execution_count": 4,
   "metadata": {},
   "outputs": [
    {
     "name": "stdout",
     "output_type": "stream",
     "text": [
      "Python\n"
     ]
    },
    {
     "data": {
      "text/plain": [
       "str"
      ]
     },
     "execution_count": 4,
     "metadata": {},
     "output_type": "execute_result"
    }
   ],
   "source": [
    "a = 'Python'\n",
    "print(a)\n",
    "type(a)"
   ]
  },
  {
   "cell_type": "code",
   "execution_count": 6,
   "metadata": {},
   "outputs": [
    {
     "name": "stdout",
     "output_type": "stream",
     "text": [
      "Você digitou:  45\n"
     ]
    }
   ],
   "source": [
    "valor = input('Digite o número de sua casa: ')\n",
    "print('Você digitou: ',valor)"
   ]
  },
  {
   "cell_type": "code",
   "execution_count": 15,
   "metadata": {},
   "outputs": [
    {
     "name": "stdout",
     "output_type": "stream",
     "text": [
      "1 + 1 + 1 = 3\n",
      "<class 'int'>\n"
     ]
    }
   ],
   "source": [
    "a = int(input('Primeiro numero:'))\n",
    "b = int(input('Segundo numero:'))\n",
    "c = int(input('Terceiro numero:'))\n",
    "soma=a+b+c\n",
    "print(a,'+',b,'+',c,'=',soma)\n",
    "print(type(soma))"
   ]
  }
 ],
 "metadata": {
  "interpreter": {
   "hash": "9495115318440a488ae3b1e6e66efc98553cf8e54614eb5e87cd63b065f8e813"
  },
  "kernelspec": {
   "display_name": "Python 3.13.2 64-bit",
   "language": "python",
   "name": "python3"
  },
  "language_info": {
   "codemirror_mode": {
    "name": "ipython",
    "version": 3
   },
   "file_extension": ".py",
   "mimetype": "text/x-python",
   "name": "python",
   "nbconvert_exporter": "python",
   "pygments_lexer": "ipython3",
   "version": "3.13.2"
  },
  "orig_nbformat": 4
 },
 "nbformat": 4,
 "nbformat_minor": 2
}
