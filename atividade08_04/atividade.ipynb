{
 "cells": [
  {
   "cell_type": "markdown",
   "metadata": {},
   "source": [
    "# Desenvolver um algorítimo que receba informações de nome, sobrenome e idade e que pergunte se quer cadastrair mais pessoas ou não, se a resposta for negativa, somar a quantidade de pessoas que foi cadastrada e verifique se tem cadastro duplicado pelo nome. "
   ]
  },
  {
   "cell_type": "code",
   "execution_count": 6,
   "metadata": {},
   "outputs": [
    {
     "name": "stdout",
     "output_type": "stream",
     "text": [
      "Cadastro de luigi cazzeri feito com sucesso!\n",
      "\n",
      "Total de cadastros realizados: 1\n",
      "\n",
      "Pessoas cadastradas:\n",
      "luigi cazzeri - Idade: 17\n"
     ]
    }
   ],
   "source": [
    "def cadastrar_pessoas():\n",
    "    cadastrados = []  # Lista para armazenar os cadastros\n",
    "\n",
    "    while True:\n",
    "        # recebendo as informações do usuário para cadastro\n",
    "        nome = input(\"Digite o nome: \")\n",
    "        sobrenome = input(\"Digite o sobrenome: \")\n",
    "        idade = input(\"Digite a idade: \")\n",
    "\n",
    "        # armazenando o cadastro \n",
    "        pessoa = {'nome': nome, 'sobrenome': sobrenome, 'idade': idade}\n",
    "\n",
    "        # verificando duplicação pelo nome\n",
    "        # 'f' serve para formatação,assim não precisa concatenar \n",
    "        if any(v['nome'] == nome for v in cadastrados):\n",
    "            print(f\"O cadastro para o nome '{nome}' já existe.\")\n",
    "        else:\n",
    "            cadastrados.append(pessoa)  # adicionado no final da lista pelo .append\n",
    "            print(f\"Cadastro de {nome} {sobrenome} feito com sucesso!\")\n",
    "\n",
    "        # pergunta se deseja cadastrar outras pessoas \n",
    "        continuar = input(\"Deseja cadastrar outra pessoa? (s/n): \").strip().lower()\n",
    "        if continuar == 'n':\n",
    "            break\n",
    "        # .strip(): remove qualquer espaço em branco no início ou no final da resposta do usuário\n",
    "        # .lower(): converte a resposta para minúsculas\n",
    "\n",
    "    # mostra o total de pessoas cadastradas\n",
    "    print(f\"\\nTotal de cadastros realizados: {len(cadastrados)}\")\n",
    "\n",
    "    # mostra as pessoas cadastradas\n",
    "    print(\"\\nPessoas cadastradas:\")\n",
    "    for p in cadastrados:\n",
    "        print(f\"{p['nome']} {p['sobrenome']} - Idade: {p['idade']}\")\n",
    "\n",
    "# chama a função e fim\n",
    "cadastrar_pessoas()\n"
   ]
  }
 ],
 "metadata": {
  "interpreter": {
   "hash": "9f99128525e34b43f3e7878806927c5c780b18daaab0ddce357984e3321df7a8"
  },
  "kernelspec": {
   "display_name": "Python 3.10.6 64-bit",
   "language": "python",
   "name": "python3"
  },
  "language_info": {
   "codemirror_mode": {
    "name": "ipython",
    "version": 3
   },
   "file_extension": ".py",
   "mimetype": "text/x-python",
   "name": "python",
   "nbconvert_exporter": "python",
   "pygments_lexer": "ipython3",
   "version": "3.10.6"
  },
  "orig_nbformat": 4
 },
 "nbformat": 4,
 "nbformat_minor": 2
}
