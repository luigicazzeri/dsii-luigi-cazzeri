{
 "cells": [
  {
   "cell_type": "code",
   "execution_count": 1,
   "metadata": {},
   "outputs": [
    {
     "name": "stdout",
     "output_type": "stream",
     "text": [
      "5.5\n"
     ]
    }
   ],
   "source": [
    "preço= {'lapis' :5.5, 'borracha' :7.0, 'cante' :6.5}\n",
    "print(preço['lapis'])"
   ]
  },
  {
   "cell_type": "code",
   "execution_count": 2,
   "metadata": {},
   "outputs": [
    {
     "name": "stdout",
     "output_type": "stream",
     "text": [
      "{'uva', 'apple', 'banana'}\n",
      "{'uva', 'apple', 'banana'}\n"
     ]
    }
   ],
   "source": [
    "thisset={\"apple\", \"banana\", \"uva\"}\n",
    "print(thisset)\n",
    "x=set((\"apple\", \"banana\", \"uva\"))\n",
    "print(x)"
   ]
  }
 ],
 "metadata": {
  "interpreter": {
   "hash": "9f99128525e34b43f3e7878806927c5c780b18daaab0ddce357984e3321df7a8"
  },
  "kernelspec": {
   "display_name": "Python 3.10.6 64-bit",
   "language": "python",
   "name": "python3"
  },
  "language_info": {
   "codemirror_mode": {
    "name": "ipython",
    "version": 3
   },
   "file_extension": ".py",
   "mimetype": "text/x-python",
   "name": "python",
   "nbconvert_exporter": "python",
   "pygments_lexer": "ipython3",
   "version": "3.10.6"
  },
  "orig_nbformat": 4
 },
 "nbformat": 4,
 "nbformat_minor": 2
}
